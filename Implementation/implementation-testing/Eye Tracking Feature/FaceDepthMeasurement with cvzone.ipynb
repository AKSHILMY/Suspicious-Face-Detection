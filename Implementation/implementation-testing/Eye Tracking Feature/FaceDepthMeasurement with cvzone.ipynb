{
 "cells": [
  {
   "cell_type": "code",
   "execution_count": 1,
   "metadata": {},
   "outputs": [],
   "source": [
    "import cv2\n",
    "import cvzone\n",
    "import time\n",
    "from cvzone.FaceMeshModule import FaceMeshDetector\n",
    "# cvzone python : https://github.com/cvzone/cvzone"
   ]
  },
  {
   "cell_type": "code",
   "execution_count": 2,
   "metadata": {},
   "outputs": [],
   "source": [
    "cap = cv2.VideoCapture(0)\n",
    "detector = FaceMeshDetector(maxFaces=1)\n",
    "\n",
    "while True:\n",
    "    success, img = cap.read()\n",
    "    img, faces = detector.findFaceMesh(img,draw = False)\n",
    "    if faces:\n",
    "        # Using https://raw.githubusercontent.com/google/mediapipe/a908d668c730da128dfa8d9f6bd25d519d006692/mediapipe/modules/face_geometry/data/canonical_face_model_uv_visualization.png\n",
    "        face = faces[0]\n",
    "        # print(faces)\n",
    "        # break\n",
    "        \n",
    "        pointLeft = face[145]\n",
    "        pointRight =  face[374]\n",
    "        cv2.line(img,pointLeft,pointRight,(0,200,0),3)\n",
    "        cv2.circle(img, pointLeft,5, (255,0,255),cv2.FILLED)\n",
    "        cv2.circle(img, pointRight,5, (255,0,255),cv2.FILLED)\n",
    "        w,_ = detector.findDistance(pointLeft,pointRight)\n",
    "        cvzone.putTextRect(img,f'w : {w:.2f} pixels',(face[10][0],face[10][1]),scale=2,colorT=(255,0,0),thickness=3)\n",
    "        W = 6.3\n",
    "        # d = 50\n",
    "        # f = (w/d)*W\n",
    "        f = 840\n",
    "        d = (W*f)/w\n",
    "        # cvzone.putTextRect(img,f'Depth: {d:.2f} cm',(face[10][0],face[10][1]),scale=2,colorT=(255,0,0))\n",
    "        # Get focal length from the system\n",
    "        # https://niko-gamulin.medium.com/pupillary-distance-measurement-with-fully-convolutional-neural-networks-back-in-the-game-8cb66cac1fb3\n",
    "    cv2.imshow(\"Image\",img)\n",
    "    if cv2.waitKey(1) & 0xFF==ord('q'): break\n",
    "cv2.destroyAllWindows()"
   ]
  }
 ],
 "metadata": {
  "kernelspec": {
   "display_name": "Python 3.9.5 64-bit",
   "language": "python",
   "name": "python3"
  },
  "language_info": {
   "codemirror_mode": {
    "name": "ipython",
    "version": 3
   },
   "file_extension": ".py",
   "mimetype": "text/x-python",
   "name": "python",
   "nbconvert_exporter": "python",
   "pygments_lexer": "ipython3",
   "version": "3.9.5"
  },
  "orig_nbformat": 4,
  "vscode": {
   "interpreter": {
    "hash": "01e904f80db565dd0b59e435e4c9f07ce7d572248c4b701c0b4361e62be5e430"
   }
  }
 },
 "nbformat": 4,
 "nbformat_minor": 2
}
