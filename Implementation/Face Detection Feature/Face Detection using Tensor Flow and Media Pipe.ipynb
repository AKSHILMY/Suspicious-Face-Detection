{
 "cells": [
  {
   "cell_type": "markdown",
   "metadata": {},
   "source": [
    "MediaPipe Face Detection"
   ]
  },
  {
   "cell_type": "code",
   "execution_count": null,
   "metadata": {},
   "outputs": [],
   "source": [
    "import time\n",
    "import cv2\n",
    "import mediapipe as mp\n",
    "mp_face_detection = mp.solutions.face_detection\n",
    "mp_drawing = mp.solutions.drawing_utils\n"
   ]
  },
  {
   "cell_type": "code",
   "execution_count": null,
   "metadata": {},
   "outputs": [],
   "source": [
    "# For WebCam input\n",
    "FPS = []\n",
    "cap = cv2.VideoCapture(0)\n",
    "img_num = 1\n",
    "with mp_face_detection.FaceDetection(\n",
    "    model_selection=0, # Short Range Model used :  best for faces within 2 meters from camera\n",
    "    min_detection_confidence=0.5) as face_detection: # Take a value that performs such that faces outside 1 m are detected are less detected\n",
    "    while cap.isOpened():\n",
    "        init = time.time()\n",
    "        success,image = cap.read()\n",
    "        if not success:\n",
    "            print(\"No Camera Detected\")\n",
    "            break\n",
    "        print(f'Detection of Image {img_num}')\n",
    "        image.flags.writeable = False\n",
    "        # image  = cv2.cvtColor(image,cv2.COLOR_BGR2RGB)\n",
    "        results = face_detection.process(image)\n",
    "        image.flags.writeable = True\n",
    "        # print(results.detections)\n",
    "        if results.detections:\n",
    "            if len(results.detections)>1:\n",
    "                print(f\"Multiple Faces Detected: {len(results.detections)}\")\n",
    "            for detection in results.detections:\n",
    "                mp_drawing.draw_detection(image,detection)\n",
    "        else:\n",
    "            print(\"No Face Detected\")\n",
    "            # break\n",
    "        img_num+=1\n",
    "        cv2.imshow('MediaPipe Face Detection', cv2.flip(image, 1))\n",
    "        if cv2.waitKey(1) & 0xFF==ord('q'): break\n",
    "        fps = (1)/(time.time() - init)\n",
    "        print('Fps: {}'.format(fps))\n",
    "        FPS.append(fps)\n",
    "    cap.release()\n",
    "    cv2.destroyAllWindows()\n",
    "    print(\"Range: \"+str(min(FPS))+\"fps - \"+str(max(FPS))+\" fps\")\n",
    "    print(\"Mean FPS: \"+str(sum(FPS)/len(FPS))+\" fps\")\n",
    "\n",
    "\n"
   ]
  },
  {
   "cell_type": "markdown",
   "metadata": {},
   "source": [
    "Camera Not Detected Situation: https://stackoverflow.com/questions/48049886/how-to-correctly-check-if-a-camera-is-available"
   ]
  }
 ],
 "metadata": {
  "kernelspec": {
   "display_name": "Python 3.9.5 64-bit",
   "language": "python",
   "name": "python3"
  },
  "language_info": {
   "codemirror_mode": {
    "name": "ipython",
    "version": 3
   },
   "file_extension": ".py",
   "mimetype": "text/x-python",
   "name": "python",
   "nbconvert_exporter": "python",
   "pygments_lexer": "ipython3",
   "version": "3.9.5"
  },
  "orig_nbformat": 4,
  "vscode": {
   "interpreter": {
    "hash": "01e904f80db565dd0b59e435e4c9f07ce7d572248c4b701c0b4361e62be5e430"
   }
  }
 },
 "nbformat": 4,
 "nbformat_minor": 2
}
