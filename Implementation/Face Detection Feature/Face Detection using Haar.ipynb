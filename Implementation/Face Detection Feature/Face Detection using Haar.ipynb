{
 "cells": [
  {
   "cell_type": "markdown",
   "metadata": {},
   "source": [
    "Method 01 : Cascade Classifiers + AdaBoost"
   ]
  },
  {
   "cell_type": "code",
   "execution_count": null,
   "metadata": {},
   "outputs": [],
   "source": [
    "# plot photo with detected faces using opencv cascade classifier\n",
    "import cv2\n",
    "import os\n",
    "import uuid\n",
    "import time\n",
    "\n",
    "def detect_face(file_name):\n",
    "\t# load the photograph\n",
    "\tpixels = cv2.imread(file_name)\n",
    "\t# load the pre-trained model\n",
    "\tclassifier = cv2.CascadeClassifier('haarcascade_frontalface_default.xml')\n",
    "\t# perform face detection\n",
    "\tbboxes = classifier.detectMultiScale(pixels,1.05,3)\n",
    "\n",
    "\t# print bounding box for each detected face\n",
    "\tfor box in bboxes:\n",
    "\t\t# extract\n",
    "\t\tx, y, width, height = box\n",
    "\t\tx2, y2 = x + width, y + height\n",
    "\t\t# draw a rectangle over the pixels\n",
    "\t\tcv2.rectangle(pixels, (x, y), (x2, y2), (0,0,255), 1)\n",
    "\t# show the image\n",
    "\t# cv2.imshow('face detection', pixels)\n",
    "\t#Detect the number of faces detected\n",
    "\tcv2.imshow('face detection',pixels)\n",
    "\t# print(\"Number of Faces Detected in {} : \".format(file_name),len(bboxes))\n",
    "\n",
    "capture = cv2.VideoCapture(0)\n",
    "img_num=1\n",
    "while img_num<=1:\n",
    "\t\"\"\"\n",
    "\tprint('Collecting image {}'.format(img_num))\n",
    "\tret,frame =capture.read()\n",
    "\tprint(f\"Frame {img_num} :\",frame)\n",
    "\timg_name = os.path.join('./data/images_haar/',f'{str(img_num)}.jpg')\n",
    "\tif ret == 0:\n",
    "\t\tprint(\"Frame Not Captured\")\n",
    "\telse:\n",
    "\t\tcv2.imwrite(img_name, frame)\n",
    "\t\timg_num+=1\n",
    "\t\t# cv2.imshow('Frame: '+str(img_num), frame)\n",
    "\t\ttime.sleep(0.5)\n",
    "\t# keep the window open until we press a key\n",
    "\t\"\"\"\n",
    "\timg_name = os.path.join('./data/team_photo')\n",
    "\tdetect_face(img_name)\n",
    "\t\n",
    "\tif cv2.waitKey(1) & 0xFF==ord('q'): break\n",
    "\n",
    "capture.release()\n",
    "# close the window \n",
    "cv2.destroyAllWindows()"
   ]
  },
  {
   "cell_type": "markdown",
   "metadata": {},
   "source": [
    "In the above method,  \n",
    "- Certain boxes would be recognized as faces, although they are not.\n",
    "- No detection of inverted faces, tilted faces"
   ]
  }
 ],
 "metadata": {
  "kernelspec": {
   "display_name": "Python 3.9.5 64-bit",
   "language": "python",
   "name": "python3"
  },
  "language_info": {
   "codemirror_mode": {
    "name": "ipython",
    "version": 3
   },
   "file_extension": ".py",
   "mimetype": "text/x-python",
   "name": "python",
   "nbconvert_exporter": "python",
   "pygments_lexer": "ipython3",
   "version": "3.9.5"
  },
  "orig_nbformat": 4,
  "vscode": {
   "interpreter": {
    "hash": "01e904f80db565dd0b59e435e4c9f07ce7d572248c4b701c0b4361e62be5e430"
   }
  }
 },
 "nbformat": 4,
 "nbformat_minor": 2
}
